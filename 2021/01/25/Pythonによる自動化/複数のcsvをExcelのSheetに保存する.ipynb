{
 "cells": [
  {
   "cell_type": "code",
   "execution_count": null,
   "id": "czech-museum",
   "metadata": {},
   "outputs": [],
   "source": [
    "# !pip install pandas\n",
    "# !pip install py7zr\n",
    "# !pip install openpyxl"
   ]
  },
  {
   "cell_type": "code",
   "execution_count": 1,
   "id": "ceramic-vector",
   "metadata": {},
   "outputs": [],
   "source": [
    "import os\n",
    "import pandas as pd\n",
    "import datetime\n",
    "import py7zr\n",
    "import openpyxl"
   ]
  },
  {
   "cell_type": "code",
   "execution_count": 2,
   "id": "damaged-noise",
   "metadata": {},
   "outputs": [],
   "source": [
    "zipfilename = './20200701.7z'\n",
    "files = py7zr.SevenZipFile(zipfilename,'r')\n",
    "files.extractall(path = '')\n",
    "files.close()"
   ]
  },
  {
   "cell_type": "code",
   "execution_count": 3,
   "id": "coral-mustang",
   "metadata": {},
   "outputs": [],
   "source": [
    "path = zipfilename[2:10]\n",
    "def read_file(path):\n",
    "    mm = [m for m,k,w in os.walk(path)]\n",
    "    kk = [k for m,k,w in os.walk(path)]\n",
    "    ww = [w for m,k,w in os.walk(path)]\n",
    "    file_path_1 = []\n",
    "    file_path_2 = []\n",
    "    for i in range(1,len(mm)):\n",
    "        path_1 = mm[i] + '/' + ww[i][0]\n",
    "        path_2 = mm[i] + '/' + ww[i][1]\n",
    "        file_path_1.append(path_1)\n",
    "        file_path_2.append(path_2)\n",
    "    return file_path_1,file_path_2"
   ]
  },
  {
   "cell_type": "code",
   "execution_count": 4,
   "id": "exterior-thumb",
   "metadata": {},
   "outputs": [],
   "source": [
    "file_path_1,file_path_2 = read_file(path)"
   ]
  },
  {
   "cell_type": "code",
   "execution_count": 5,
   "id": "expanded-croatia",
   "metadata": {},
   "outputs": [
    {
     "name": "stdout",
     "output_type": "stream",
     "text": [
      "['20200701\\\\1/20200701.csv', '20200701\\\\2/20200701.csv', '20200701\\\\3/20200701.csv']\n",
      "==================\n",
      "['20200701\\\\1/log_20200701.csv', '20200701\\\\2/log_20200701.csv', '20200701\\\\3/log_20200701.csv']\n"
     ]
    }
   ],
   "source": [
    "print(file_path_1)\n",
    "print('==================')\n",
    "print(file_path_2)"
   ]
  },
  {
   "cell_type": "code",
   "execution_count": 6,
   "id": "undefined-drove",
   "metadata": {},
   "outputs": [],
   "source": [
    "def make_dataframe(file_path_1,file_path_2):\n",
    "    df_1 = [pd.read_csv(file_path_1[k],encoding='cp932') for k in range(len(file_path_1))]\n",
    "    df_2 = [pd.read_csv(file_path_2[k],encoding='cp932') for k in range(len(file_path_2))]\n",
    "    df_2 = [k[k['件数'] != -20].reset_index() for k in df_2]\n",
    "    df_2 = [k.loc[:,['開始','処理時間','件数']] for k in df_2]\n",
    "    return df_1,df_2"
   ]
  },
  {
   "cell_type": "code",
   "execution_count": 7,
   "id": "colored-surname",
   "metadata": {},
   "outputs": [],
   "source": [
    "df_1,df_2 = make_dataframe(file_path_1,file_path_2)"
   ]
  },
  {
   "cell_type": "code",
   "execution_count": 8,
   "id": "suitable-racing",
   "metadata": {},
   "outputs": [
    {
     "data": {
      "text/plain": [
       "[              開始            処理時間   件数\n",
       " 0  2020/7/1 0:02         0:00:00    0\n",
       " 1  2020/7/1 0:06  0:02:27.097232   32\n",
       " 2  2020/7/1 0:08  0:02:03.579021    0\n",
       " 3  2020/7/1 0:10         0:00:00   37\n",
       " 4  2020/7/1 0:12  0:00:14.062793   56\n",
       " 5  2020/7/1 0:13  0:01:59.638201  100,\n",
       "               開始            処理時間   件数\n",
       " 0  2020/7/1 0:02         0:00:00    0\n",
       " 1  2020/7/1 0:06  0:02:27.097232   32\n",
       " 2  2020/7/1 0:08  0:02:03.579021    0\n",
       " 3  2020/7/1 0:10         0:00:00   37\n",
       " 4  2020/7/1 0:12  0:00:14.062793   56\n",
       " 5  2020/7/1 0:13  0:01:59.638201  100,\n",
       "               開始            処理時間   件数\n",
       " 0  2020/7/1 0:02         0:00:00    0\n",
       " 1  2020/7/1 0:06  0:02:27.097232   32\n",
       " 2  2020/7/1 0:08  0:02:03.579021    0\n",
       " 3  2020/7/1 0:10         0:00:00   37\n",
       " 4  2020/7/1 0:12  0:00:14.062793   56\n",
       " 5  2020/7/1 0:13  0:01:59.638201  100]"
      ]
     },
     "execution_count": 8,
     "metadata": {},
     "output_type": "execute_result"
    }
   ],
   "source": [
    "df_2"
   ]
  },
  {
   "cell_type": "code",
   "execution_count": 9,
   "id": "minimal-italian",
   "metadata": {},
   "outputs": [],
   "source": [
    "def make_file(df_1,df_2):\n",
    "    df = pd.concat([df_2,df_1],axis=1)\n",
    "    df['サイズ(MB)'] = df['サイズ(Byte)']/(1024**2)\n",
    "    \n",
    "    ii = [pd.to_datetime(i).time() for i in df_2['処理時間']]\n",
    "    time_to_second = []\n",
    "    for i in ii:\n",
    "        if i.microsecond:\n",
    "            s = '%06d' % i.microsecond\n",
    "            if int(s[0]) >= 5:\n",
    "                seconds = i.hour*3600 + i.minute*60+ i.second +1\n",
    "                time_to_second.append(seconds)\n",
    "            else:\n",
    "                seconds = i.hour*3600 + i.minute*60+ i.second\n",
    "                time_to_second.append(seconds)\n",
    "        else:\n",
    "            seconds = i.hour*3600 + i.minute*60+ i.second\n",
    "            time_to_second.append(seconds)\n",
    "    m,s = divmod(sum(time_to_second),60)\n",
    "    h,m = divmod(m,60)\n",
    "    sum_time='{0}:{1:02d}:{2:02d}'.format(h,m,s)\n",
    "    \n",
    "    sum_num = sum(df['件数'])\n",
    "    sum_size = sum(df['サイズ(Byte)'])\n",
    "    sum_size_MB = sum_size/(1024**2)\n",
    "    \n",
    "    df.loc['sum'] = ['',sum_time,sum_num,sum_size/1024**3,sum_size,sum_size_MB]\n",
    "    \n",
    "    return df"
   ]
  },
  {
   "cell_type": "code",
   "execution_count": 10,
   "id": "certified-score",
   "metadata": {},
   "outputs": [],
   "source": [
    "list_file = [make_file(df_1[i],df_2[i]) for i in range(len(df_1))]"
   ]
  },
  {
   "cell_type": "code",
   "execution_count": 11,
   "id": "criminal-semiconductor",
   "metadata": {},
   "outputs": [],
   "source": [
    "list_file_1,list_file_2,list_file_3=[list_file[0],list_file[1],list_file[2]]"
   ]
  },
  {
   "cell_type": "code",
   "execution_count": null,
   "id": "intellectual-modification",
   "metadata": {},
   "outputs": [],
   "source": [
    "def combine_to_excel(list_file_1,list_file_2,list_file_3):\n",
    "    list_name = ['list_file_1','list_file_2','list_file_3']\n",
    "    writer = pd.ExcelWriter('20200701.xlsx')\n",
    "    for i in list_name:\n",
    "        eval(i).to_excel(excel_writer = writer,sheet_name = i,index=False)\n",
    "    writer.save()\n",
    "    writer.close()"
   ]
  },
  {
   "cell_type": "code",
   "execution_count": null,
   "id": "broken-operations",
   "metadata": {},
   "outputs": [],
   "source": [
    "combine_to_excel(list_file_1,list_file_2,list_file_3)"
   ]
  },
  {
   "cell_type": "code",
   "execution_count": null,
   "id": "clean-shoulder",
   "metadata": {},
   "outputs": [],
   "source": []
  }
 ],
 "metadata": {
  "kernelspec": {
   "display_name": "python3.9",
   "language": "python",
   "name": "python3.9"
  },
  "language_info": {
   "codemirror_mode": {
    "name": "ipython",
    "version": 3
   },
   "file_extension": ".py",
   "mimetype": "text/x-python",
   "name": "python",
   "nbconvert_exporter": "python",
   "pygments_lexer": "ipython3",
   "version": "3.9.1"
  }
 },
 "nbformat": 4,
 "nbformat_minor": 5
}
