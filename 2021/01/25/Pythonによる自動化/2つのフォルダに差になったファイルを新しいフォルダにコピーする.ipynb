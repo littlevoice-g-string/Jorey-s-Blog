{
 "cells": [
  {
   "cell_type": "code",
   "execution_count": 1,
   "id": "funny-clearing",
   "metadata": {},
   "outputs": [],
   "source": [
    "import os\n",
    "from shutil import copy"
   ]
  },
  {
   "cell_type": "code",
   "execution_count": 22,
   "id": "interstate-bruce",
   "metadata": {},
   "outputs": [],
   "source": [
    "ll=[l for l,m,n in os.walk('./')]\n",
    "nn = [n for l,m,n in os.walk('./')]"
   ]
  },
  {
   "cell_type": "code",
   "execution_count": 23,
   "id": "occasional-nevada",
   "metadata": {},
   "outputs": [
    {
     "data": {
      "text/plain": [
       "['./',\n",
       " './.ipynb_checkpoints',\n",
       " './data',\n",
       " './data_1',\n",
       " './mecab-ipadic-neologd',\n",
       " './mecab-ipadic-neologd\\\\.git',\n",
       " './mecab-ipadic-neologd\\\\.git\\\\hooks',\n",
       " './mecab-ipadic-neologd\\\\.git\\\\info',\n",
       " './mecab-ipadic-neologd\\\\.git\\\\logs',\n",
       " './mecab-ipadic-neologd\\\\.git\\\\logs\\\\refs',\n",
       " './mecab-ipadic-neologd\\\\.git\\\\logs\\\\refs\\\\heads',\n",
       " './mecab-ipadic-neologd\\\\.git\\\\logs\\\\refs\\\\remotes',\n",
       " './mecab-ipadic-neologd\\\\.git\\\\logs\\\\refs\\\\remotes\\\\origin',\n",
       " './mecab-ipadic-neologd\\\\.git\\\\objects',\n",
       " './mecab-ipadic-neologd\\\\.git\\\\objects\\\\info',\n",
       " './mecab-ipadic-neologd\\\\.git\\\\objects\\\\pack',\n",
       " './mecab-ipadic-neologd\\\\.git\\\\refs',\n",
       " './mecab-ipadic-neologd\\\\.git\\\\refs\\\\heads',\n",
       " './mecab-ipadic-neologd\\\\.git\\\\refs\\\\remotes',\n",
       " './mecab-ipadic-neologd\\\\.git\\\\refs\\\\remotes\\\\origin',\n",
       " './mecab-ipadic-neologd\\\\.git\\\\refs\\\\tags',\n",
       " './mecab-ipadic-neologd\\\\.github',\n",
       " './mecab-ipadic-neologd\\\\bin',\n",
       " './mecab-ipadic-neologd\\\\diff',\n",
       " './mecab-ipadic-neologd\\\\libexec',\n",
       " './mecab-ipadic-neologd\\\\misc',\n",
       " './mecab-ipadic-neologd\\\\misc\\\\dic',\n",
       " './mecab-ipadic-neologd\\\\misc\\\\patch',\n",
       " './mecab-ipadic-neologd\\\\seed',\n",
       " './クラスタ分類の評価指標',\n",
       " './クラスタ分類の評価指標\\\\.ipynb_checkpoints']"
      ]
     },
     "execution_count": 23,
     "metadata": {},
     "output_type": "execute_result"
    }
   ],
   "source": [
    "ll"
   ]
  },
  {
   "cell_type": "code",
   "execution_count": 24,
   "id": "empirical-adult",
   "metadata": {},
   "outputs": [
    {
     "data": {
      "text/plain": [
       "True"
      ]
     },
     "execution_count": 24,
     "metadata": {},
     "output_type": "execute_result"
    }
   ],
   "source": [
    "len(nn[2]) > len(nn[3])"
   ]
  },
  {
   "cell_type": "code",
   "execution_count": 25,
   "id": "friendly-machinery",
   "metadata": {},
   "outputs": [],
   "source": [
    "file = [i for i in nn[2] if i not in nn[3]]"
   ]
  },
  {
   "cell_type": "code",
   "execution_count": 26,
   "id": "spanish-noise",
   "metadata": {},
   "outputs": [
    {
     "data": {
      "text/plain": [
       "['109_dist_0.6.csv', '110_dist_0.6.csv']"
      ]
     },
     "execution_count": 26,
     "metadata": {},
     "output_type": "execute_result"
    }
   ],
   "source": [
    "file"
   ]
  },
  {
   "cell_type": "code",
   "execution_count": 27,
   "id": "breathing-williams",
   "metadata": {},
   "outputs": [],
   "source": [
    "path=[ll[2]+'/'+i for i in file]"
   ]
  },
  {
   "cell_type": "code",
   "execution_count": 28,
   "id": "thirty-genesis",
   "metadata": {},
   "outputs": [
    {
     "data": {
      "text/plain": [
       "['./data/109_dist_0.6.csv', './data/110_dist_0.6.csv']"
      ]
     },
     "execution_count": 28,
     "metadata": {},
     "output_type": "execute_result"
    }
   ],
   "source": [
    "path"
   ]
  },
  {
   "cell_type": "code",
   "execution_count": 32,
   "id": "posted-turning",
   "metadata": {},
   "outputs": [],
   "source": []
  },
  {
   "cell_type": "code",
   "execution_count": 35,
   "id": "trying-skill",
   "metadata": {},
   "outputs": [],
   "source": [
    "save_dir = './data_new'\n",
    "if not os.path.isdir(save_dir):\n",
    "    os.makedirs(save_dir)\n",
    "i = 0\n",
    "for i in range(len(path)):\n",
    "    copy(path[i],save_dir) "
   ]
  },
  {
   "cell_type": "code",
   "execution_count": null,
   "id": "played-grace",
   "metadata": {},
   "outputs": [],
   "source": []
  }
 ],
 "metadata": {
  "kernelspec": {
   "display_name": "python3.9",
   "language": "python",
   "name": "python3.9"
  },
  "language_info": {
   "codemirror_mode": {
    "name": "ipython",
    "version": 3
   },
   "file_extension": ".py",
   "mimetype": "text/x-python",
   "name": "python",
   "nbconvert_exporter": "python",
   "pygments_lexer": "ipython3",
   "version": "3.9.1"
  }
 },
 "nbformat": 4,
 "nbformat_minor": 5
}
