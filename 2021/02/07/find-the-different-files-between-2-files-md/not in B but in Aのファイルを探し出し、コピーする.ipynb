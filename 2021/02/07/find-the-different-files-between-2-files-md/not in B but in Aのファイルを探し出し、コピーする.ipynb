{
 "cells": [
  {
   "cell_type": "markdown",
   "metadata": {},
   "source": [
    "### 参考：\n",
    "    https://www.cnblogs.com/qxh-beijing2016/p/12084150.html\n",
    "    https://www.cnblogs.com/lee0oo0/p/4466090.html"
   ]
  },
  {
   "cell_type": "markdown",
   "metadata": {},
   "source": [
    "#### フォルダ名を変更"
   ]
  },
  {
   "cell_type": "code",
   "execution_count": null,
   "metadata": {},
   "outputs": [],
   "source": [
    "def rename(path):\n",
    "    i=0\n",
    "    name_list=['kaggle','tableau','pytorch']\n",
    "    FileList = os.listdir(path)\n",
    "    for files in FileList:\n",
    "        oldDirPath = os.path.join(path, files)\n",
    "        if os.path.isdir(oldDirPath):\n",
    "            rename(oldDirPath)            \n",
    "            newDirPath=os.path.join(path,name_list[i])\n",
    "            os.rename(oldDirPath, newDirPath)\n",
    "            print(files +' has changed as '+newDirPath)\n",
    "            i += 1"
   ]
  },
  {
   "cell_type": "markdown",
   "metadata": {},
   "source": []
  },
  {
   "cell_type": "code",
   "execution_count": null,
   "metadata": {},
   "outputs": [],
   "source": [
    "# !pip install deepdiff\n",
    "# !pip install BeautifulSoup4\n",
    "# !pip install lxml\n",
    "# !pip install langid \n",
    "# !pip install mecab-python3\n",
    "# !pip install nltk\n",
    "# !pip install extract_msg"
   ]
  },
  {
   "cell_type": "code",
   "execution_count": 1,
   "metadata": {},
   "outputs": [],
   "source": [
    "import os\n",
    "from shutil import copy\n",
    "from pathlib import Path\n",
    "import email\n",
    "import extract_msg\n",
    "from bs4 import BeautifulSoup\n",
    "# nltk.download('punkt')\n",
    "# from deepdiff import DeepDiff"
   ]
  },
  {
   "cell_type": "markdown",
   "metadata": {},
   "source": [
    "#### 各フォルダ内にて比較"
   ]
  },
  {
   "cell_type": "code",
   "execution_count": 2,
   "metadata": {},
   "outputs": [],
   "source": [
    "kk_full=[k for k,w,t in os.walk('./A_full')]\n",
    "ww_full=[w for k,w,t in os.walk('./A_full')]\n",
    "tt_full=[t for k,w,t in os.walk('./A_full')]\n",
    "\n",
    "kk_error=[k for k,w,t in os.walk('./B_error')]\n",
    "ww_error=[w for k,w,t in os.walk('./B_error')]\n",
    "tt_error=[t for k,w,t in os.walk('./B_error')]"
   ]
  },
  {
   "cell_type": "code",
   "execution_count": 3,
   "metadata": {},
   "outputs": [
    {
     "data": {
      "text/plain": [
       "['./A_full',\n",
       " './A_full\\\\20210201',\n",
       " './A_full\\\\20210202',\n",
       " './A_full\\\\20210203',\n",
       " './A_full\\\\20210204',\n",
       " './A_full\\\\20210205',\n",
       " './A_full\\\\20210206',\n",
       " './A_full\\\\20210207',\n",
       " './A_full\\\\20210208']"
      ]
     },
     "execution_count": 3,
     "metadata": {},
     "output_type": "execute_result"
    }
   ],
   "source": [
    "kk_full"
   ]
  },
  {
   "cell_type": "code",
   "execution_count": 4,
   "metadata": {},
   "outputs": [
    {
     "data": {
      "text/plain": [
       "['a', 'A1', 'a1', 'a10', 'a11', 'A19', 'a2', 'S']"
      ]
     },
     "execution_count": 4,
     "metadata": {},
     "output_type": "execute_result"
    }
   ],
   "source": [
    "file_name_full = [kk_full[i].split('/')[-1].split('\\\\')[-1] for i in range(1,len(kk_full))]\n",
    "file_name_full\n",
    "file_name_error = [kk_error[i].split('/')[-1].split('\\\\')[-1] for i in range(1,len(kk_error))]\n",
    "file_name_error\n",
    "file_name_error"
   ]
  },
  {
   "cell_type": "markdown",
   "metadata": {},
   "source": [
    "### 並び替えルールを定義する\n",
    "    chr(ord(c)+58):https://techacademy.jp/magazine/36090#1"
   ]
  },
  {
   "cell_type": "code",
   "execution_count": 5,
   "metadata": {},
   "outputs": [],
   "source": [
    "from itertools import count\n",
    "def rank_filename(value):\n",
    "    if len(value) <= 1:\n",
    "        for i in count():\n",
    "            try:\n",
    "                _ = chr(i)\n",
    "            except ValueError:\n",
    "                max_char_number = i-1\n",
    "                break\n",
    "        left,right = value.lower(),chr(max_char_number)    \n",
    "    else:\n",
    "        left,right = value[0],''.join(list(value)[1:])\n",
    "        #A-Zのほうがa-zより小さいので、それを入れ替える\n",
    "        left_after = ''\n",
    "        for c in left:\n",
    "            if 'a' <= c <= 'z':\n",
    "                left_after += chr(ord('A')+(ord(c)-(ord('a')))+5)\n",
    "            elif 'A' <= c <= 'Z':\n",
    "                left_after += chr(ord('a')+(ord(c)-(ord('A')))+5)\n",
    "            else:\n",
    "                left_after += c\n",
    "        left = left_after      \n",
    "    return left,right"
   ]
  },
  {
   "cell_type": "code",
   "execution_count": 6,
   "metadata": {},
   "outputs": [
    {
     "data": {
      "text/plain": [
       "['a1', 'a10', 'a11', 'a2', 'a', 'A1', 'A19', 'S']"
      ]
     },
     "execution_count": 6,
     "metadata": {},
     "output_type": "execute_result"
    }
   ],
   "source": [
    "file_name_sort = sorted(file_name_error,key=rank_filename)\n",
    "file_name_sort"
   ]
  },
  {
   "cell_type": "code",
   "execution_count": 7,
   "metadata": {},
   "outputs": [
    {
     "data": {
      "text/plain": [
       "(65, 54, 83, 97, 115, 45)"
      ]
     },
     "execution_count": 7,
     "metadata": {},
     "output_type": "execute_result"
    }
   ],
   "source": [
    "### 参考用\n",
    "ord('A'),ord('a')+(ord('C')-(ord('A'))-45),ord('S'),ord('a'),ord('s'),ord('-')"
   ]
  },
  {
   "cell_type": "markdown",
   "metadata": {},
   "source": [
    "### 並び替え方法②\n",
    "    file_name_sort =sorted(file_name_old,key=lambda x:(''.join(chr(ord(c)+58) if 'A' <= c <= 'Z' \n",
    "                                             else c for c in x.split('-')[0]),(x+'-').split('-')[1] \n",
    "                                             or chr(1114111)))\n"
   ]
  },
  {
   "cell_type": "code",
   "execution_count": 8,
   "metadata": {},
   "outputs": [
    {
     "data": {
      "text/plain": [
       "'./B_error/a10'"
      ]
     },
     "execution_count": 8,
     "metadata": {},
     "output_type": "execute_result"
    }
   ],
   "source": [
    "folder_path_sorted = ['./B_error/'+i for i in file_name_sort]\n",
    "folder_path_full = ['./A_full/'+i for i in file_name_full]\n",
    "folder_path_sorted[1]"
   ]
  },
  {
   "cell_type": "code",
   "execution_count": 9,
   "metadata": {},
   "outputs": [
    {
     "data": {
      "text/plain": [
       "['./B_error/a1',\n",
       " './B_error/a10',\n",
       " './B_error/a11',\n",
       " './B_error/a2',\n",
       " './B_error/a',\n",
       " './B_error/A1',\n",
       " './B_error/A19',\n",
       " './B_error/S']"
      ]
     },
     "execution_count": 9,
     "metadata": {},
     "output_type": "execute_result"
    }
   ],
   "source": [
    "folder_path_sorted"
   ]
  },
  {
   "cell_type": "code",
   "execution_count": 10,
   "metadata": {},
   "outputs": [],
   "source": [
    "def make_full_path(list_):\n",
    "    full_path = []\n",
    "    for i in list_:\n",
    "        for v,k,m in os.walk(i):\n",
    "            path_tmp = [os.path.join(v,x) for x in m]\n",
    "            full_path.append(path_tmp)\n",
    "    return full_path"
   ]
  },
  {
   "cell_type": "code",
   "execution_count": 11,
   "metadata": {},
   "outputs": [
    {
     "data": {
      "text/plain": [
       "'./B_error/S\\\\全員に１レッスンプレゼント！仙台校移転記念♪トライアルキャンペーン開催！！.eml'"
      ]
     },
     "execution_count": 11,
     "metadata": {},
     "output_type": "execute_result"
    }
   ],
   "source": [
    "full_path_sorted = make_full_path(folder_path_sorted)\n",
    "full_path_all = make_full_path(folder_path_full)\n",
    "full_path_sorted[7][0]"
   ]
  },
  {
   "cell_type": "code",
   "execution_count": 12,
   "metadata": {},
   "outputs": [
    {
     "data": {
      "text/plain": [
       "{'./B_error/a1': './A_full/20210201',\n",
       " './B_error/a10': './A_full/20210202',\n",
       " './B_error/a11': './A_full/20210203',\n",
       " './B_error/a2': './A_full/20210204',\n",
       " './B_error/a': './A_full/20210205',\n",
       " './B_error/A1': './A_full/20210206',\n",
       " './B_error/A19': './A_full/20210207',\n",
       " './B_error/S': './A_full/20210208'}"
      ]
     },
     "execution_count": 12,
     "metadata": {},
     "output_type": "execute_result"
    }
   ],
   "source": [
    "file_path_dict=dict(zip(folder_path_sorted,folder_path_full))\n",
    "file_path_dict"
   ]
  },
  {
   "cell_type": "markdown",
   "metadata": {},
   "source": [
    "### A.内容をもとに比較"
   ]
  },
  {
   "cell_type": "markdown",
   "metadata": {},
   "source": [
    "#### eml & msg"
   ]
  },
  {
   "cell_type": "code",
   "execution_count": 14,
   "metadata": {},
   "outputs": [],
   "source": [
    "def extract_text(list_):\n",
    "    text = []\n",
    "    file_id = []\n",
    "    for i in list_:\n",
    "        if i.split('.')[-1] == 'eml':\n",
    "            file_id.append(i)\n",
    "            with open(i,'r',encoding = 'utf-8-sig') as f:\n",
    "                text_ = f.read()\n",
    "                text.append(text_)\n",
    "#                 print('extracted',i)\n",
    "        elif i.split('.')[-1] == 'msg':\n",
    "            file_id.append(i)\n",
    "            subject = extract_msg.Message(i).subject\n",
    "            date = extract_msg.Message(i).date\n",
    "            body = extract_msg.Message(i).body\n",
    "            text_ = subject+date+body\n",
    "            text.append(text_)\n",
    "#             print('extracted',i)\n",
    "        elif i.split('.')[-1] == 'html':\n",
    "            file_id.append(i)\n",
    "            htmlfile = open(i, 'r', encoding='utf-8-sig')\n",
    "            htmlhandle = htmlfile.read()\n",
    "            soup = BeautifulSoup(htmlhandle, 'html.parser')\n",
    "            text.append(soup.text)\n",
    "#             print('extracted',i)\n",
    "            \n",
    "#         dict_ = dict(zip(file_id,text))\n",
    "    return file_id,text         "
   ]
  },
  {
   "cell_type": "markdown",
   "metadata": {},
   "source": [
    "##### 内容を比較し、idを取り出す"
   ]
  },
  {
   "cell_type": "code",
   "execution_count": 15,
   "metadata": {},
   "outputs": [],
   "source": [
    "differ_ids=[]\n",
    "for i in range(len(full_path_all)):\n",
    "    file_id,text_sorted =extract_text(full_path_all[i])\n",
    "    file_id_error,text_error =extract_text(full_path_sorted[i])\n",
    "    dict_ = dict(zip(text_sorted,file_id))\n",
    "    differ_id = []\n",
    "    for m in text_sorted:\n",
    "        if m not in text_error:\n",
    "            differ_id.append(dict_[m])\n",
    "    differ_ids.append(differ_id)"
   ]
  },
  {
   "cell_type": "code",
   "execution_count": 16,
   "metadata": {},
   "outputs": [
    {
     "data": {
      "text/plain": [
       "['./A_full/20210202\\\\Your question of the week from Vocabulary.com.eml',\n",
       " './A_full/20210202\\\\東京2020大会：オリンピック＆パラリンピックの世界へ.eml']"
      ]
     },
     "execution_count": 16,
     "metadata": {},
     "output_type": "execute_result"
    }
   ],
   "source": [
    "differ_ids[1]"
   ]
  },
  {
   "cell_type": "markdown",
   "metadata": {},
   "source": [
    "#### 保存する"
   ]
  },
  {
   "cell_type": "code",
   "execution_count": 17,
   "metadata": {},
   "outputs": [],
   "source": [
    "save_dir='./new'\n",
    "if not os.path.isdir(save_dir):\n",
    "    os.makedirs(save_dir)"
   ]
  },
  {
   "cell_type": "code",
   "execution_count": 24,
   "metadata": {},
   "outputs": [],
   "source": [
    "for i in differ_ids:\n",
    "    for m in i:\n",
    "#         print(m.split('/')[2].split('\\\\')[0])\n",
    "        to_path = os.path.join(save_dir,m.split('/')[2].split('\\\\')[0])\n",
    "        if not os.path.isdir(to_path):\n",
    "            os.makedirs(to_path)\n",
    "        copy(m,to_path)"
   ]
  },
  {
   "cell_type": "markdown",
   "metadata": {},
   "source": [
    "### B.件名をもとに比較"
   ]
  },
  {
   "cell_type": "code",
   "execution_count": 19,
   "metadata": {},
   "outputs": [
    {
     "data": {
      "text/plain": [
       "'./B_error/a10'"
      ]
     },
     "execution_count": 19,
     "metadata": {},
     "output_type": "execute_result"
    }
   ],
   "source": [
    "folder_path_sorted = ['./B_error/'+i for i in file_name_sort]\n",
    "folder_path_full = ['./A_full/'+i for i in file_name_full]\n",
    "folder_path_sorted[1]"
   ]
  },
  {
   "cell_type": "code",
   "execution_count": 20,
   "metadata": {},
   "outputs": [],
   "source": [
    "kk_error_sorted=[k for i in folder_path_sorted for k,w,t in os.walk(i)]\n",
    "# ww_sorted=[w for i in folder_path_sorted for k,w,t in os.walk(i)]\n",
    "tt_error_sorted=[t for i in folder_path_sorted for k,w,t in os.walk(i)]\n",
    "\n",
    "kk_full=[k for k,w,t in os.walk('./A_full')]\n",
    "ww_full=[w for k,w,t in os.walk('./A_full')]\n",
    "tt_full=[t for k,w,t in os.walk('./A_full')]"
   ]
  },
  {
   "cell_type": "code",
   "execution_count": 21,
   "metadata": {},
   "outputs": [
    {
     "data": {
      "text/plain": [
       "['./A_full',\n",
       " './A_full\\\\20210201',\n",
       " './A_full\\\\20210202',\n",
       " './A_full\\\\20210203',\n",
       " './A_full\\\\20210204',\n",
       " './A_full\\\\20210205',\n",
       " './A_full\\\\20210206',\n",
       " './A_full\\\\20210207',\n",
       " './A_full\\\\20210208']"
      ]
     },
     "execution_count": 21,
     "metadata": {},
     "output_type": "execute_result"
    }
   ],
   "source": [
    "kk_full"
   ]
  },
  {
   "cell_type": "code",
   "execution_count": 22,
   "metadata": {},
   "outputs": [
    {
     "data": {
      "text/plain": [
       "[[],\n",
       " ['Nintendo Switch『モンスターハンターライズ』の最新映像が公開。 _ トピックス _ Nintendo.html',\n",
       "  'The savings are clear.eml',\n",
       "  '[asjnews01 _199] AS-J 権利擁護支援ニュース (21_01_ 30 Sat).eml',\n",
       "  '「僕もこんな本を作りたかった」編集者が嫉妬した２冊.eml',\n",
       "  '【Nintendo Switch】期間限定セール・新作ほか、ソフトのご紹介.eml'],\n",
       " [\"We're not seeing any activity from last week..eml\",\n",
       "  \"We've got so much to catch up on!.eml\",\n",
       "  'Your question of the week from Vocabulary.com.eml',\n",
       "  '東京2020大会：オリンピック＆パラリンピックの世界へ.eml'],\n",
       " ['21歳の学生がオーナー。ラベンダー色の店に、服も夢も詰め込んで\\u3000「喫茶ジョー」 _ 朝日新聞デジタル＆w（アンド・ダブリュー）.html',\n",
       "  'LAST CHANCE_ $75 annual plans end tonight!.eml',\n",
       "  '[蝴蝶效应] 摘要.eml',\n",
       "  'もっちもっちの弾力に、脈打つ熟成香。魅惑のブランデーあんぱん.eml',\n",
       "  '新年のご挨拶.eml'],\n",
       " ['40歳、不妊治療をやめた。手にした“奇跡”に、さよならを.eml',\n",
       "  'Communication trends of 2020.eml',\n",
       "  '[asjnews01 _195] AS-J 権利擁護支援ニュース (20_12_ 20 Sun).eml',\n",
       "  'ゴーストライター騒動から7年 新垣隆の「覚悟」.eml',\n",
       "  'ソフトウェアを安全に保護するためのより良い方法.eml'],\n",
       " ['【スーパーマリオブラザーズ35周年】12月のニュースをお届けいたします.eml',\n",
       "  'スカウト担当より求人のご案内_スズキ株式会社_データサイエンティスト_データエンジニア【リクルートエージェント】.eml',\n",
       "  '宇賀なつみ、思わず息をのむ.eml',\n",
       "  '東京2020大会：オリンピック＆パラリンピックの世界を知り尽くそう.eml'],\n",
       " ['未来への学びにつながる！冊子「富士通の教育ビジョン」のご紹介.eml',\n",
       "  '深度学习之路（一）：用LSTM网络做时间序列数据预测 - 简书.html'],\n",
       " ['Our cool-productivity-killer newsletter.eml',\n",
       "  'tags _ LittleVoice-g-string.html',\n",
       "  '＼クリーム UFC 特別セット 好評発売中！／LIVE配信＆バレンタイン限定セット発売のお知らせ.eml'],\n",
       " ['全員に１レッスンプレゼント！仙台校移転記念♪トライアルキャンペーン開催！！.eml',\n",
       "  '明智光秀、最後の夜は…….eml',\n",
       "  '看了这个总结，其实 Matplotlib 可视化，也没那么难！.html']]"
      ]
     },
     "execution_count": 22,
     "metadata": {},
     "output_type": "execute_result"
    }
   ],
   "source": [
    "tt_full"
   ]
  },
  {
   "cell_type": "code",
   "execution_count": 25,
   "metadata": {},
   "outputs": [],
   "source": [
    "list_ = [[]]*8\n",
    "for i in range(len(tt_error_sorted)):\n",
    "    list_.append(list(set(tt_full[i+1])-set(tt_error_sorted[i])))"
   ]
  },
  {
   "cell_type": "code",
   "execution_count": 26,
   "metadata": {},
   "outputs": [
    {
     "data": {
      "text/plain": [
       "[[],\n",
       " [],\n",
       " [],\n",
       " [],\n",
       " [],\n",
       " [],\n",
       " [],\n",
       " [],\n",
       " ['Nintendo Switch『モンスターハンターライズ』の最新映像が公開。 _ トピックス _ Nintendo.html',\n",
       "  'The savings are clear.eml',\n",
       "  '【Nintendo Switch】期間限定セール・新作ほか、ソフトのご紹介.eml'],\n",
       " ['Your question of the week from Vocabulary.com.eml',\n",
       "  '東京2020大会：オリンピック＆パラリンピックの世界へ.eml'],\n",
       " ['新年のご挨拶.eml', 'もっちもっちの弾力に、脈打つ熟成香。魅惑のブランデーあんぱん.eml'],\n",
       " ['ソフトウェアを安全に保護するためのより良い方法.eml',\n",
       "  'ゴーストライター騒動から7年 新垣隆の「覚悟」.eml',\n",
       "  'Communication trends of 2020.eml'],\n",
       " ['東京2020大会：オリンピック＆パラリンピックの世界を知り尽くそう.eml', '宇賀なつみ、思わず息をのむ.eml'],\n",
       " ['深度学习之路（一）：用LSTM网络做时间序列数据预测 - 简书.html'],\n",
       " ['Our cool-productivity-killer newsletter.eml'],\n",
       " ['明智光秀、最後の夜は…….eml']]"
      ]
     },
     "execution_count": 26,
     "metadata": {},
     "output_type": "execute_result"
    }
   ],
   "source": [
    "list_"
   ]
  },
  {
   "cell_type": "code",
   "execution_count": 27,
   "metadata": {},
   "outputs": [
    {
     "data": {
      "text/plain": [
       "8"
      ]
     },
     "execution_count": 27,
     "metadata": {},
     "output_type": "execute_result"
    }
   ],
   "source": [
    "len(list_[8:])"
   ]
  },
  {
   "cell_type": "code",
   "execution_count": 28,
   "metadata": {},
   "outputs": [
    {
     "data": {
      "text/plain": [
       "{'./A_full\\\\20210201': ['Nintendo Switch『モンスターハンターライズ』の最新映像が公開。 _ トピックス _ Nintendo.html',\n",
       "  'The savings are clear.eml',\n",
       "  '【Nintendo Switch】期間限定セール・新作ほか、ソフトのご紹介.eml'],\n",
       " './A_full\\\\20210202': ['Your question of the week from Vocabulary.com.eml',\n",
       "  '東京2020大会：オリンピック＆パラリンピックの世界へ.eml'],\n",
       " './A_full\\\\20210203': ['新年のご挨拶.eml', 'もっちもっちの弾力に、脈打つ熟成香。魅惑のブランデーあんぱん.eml'],\n",
       " './A_full\\\\20210204': ['ソフトウェアを安全に保護するためのより良い方法.eml',\n",
       "  'ゴーストライター騒動から7年 新垣隆の「覚悟」.eml',\n",
       "  'Communication trends of 2020.eml'],\n",
       " './A_full\\\\20210205': ['東京2020大会：オリンピック＆パラリンピックの世界を知り尽くそう.eml',\n",
       "  '宇賀なつみ、思わず息をのむ.eml'],\n",
       " './A_full\\\\20210206': ['深度学习之路（一）：用LSTM网络做时间序列数据预测 - 简书.html'],\n",
       " './A_full\\\\20210207': ['Our cool-productivity-killer newsletter.eml'],\n",
       " './A_full\\\\20210208': ['明智光秀、最後の夜は…….eml']}"
      ]
     },
     "execution_count": 28,
     "metadata": {},
     "output_type": "execute_result"
    }
   ],
   "source": [
    "dict_path = dict(zip(kk_full[1:],list_[8:]))\n",
    "dict_path"
   ]
  },
  {
   "cell_type": "code",
   "execution_count": 29,
   "metadata": {},
   "outputs": [],
   "source": [
    "save_dir='./new/'\n",
    "if not os.path.isdir(save_dir):\n",
    "    os.makedirs(save_dir)"
   ]
  },
  {
   "cell_type": "code",
   "execution_count": 30,
   "metadata": {},
   "outputs": [],
   "source": [
    "for i in kk_full[1:]:\n",
    "#     print(i.split('/')[1].split('\\\\')[1])\n",
    "    for m in dict_path[i]:\n",
    "        from_path = os.path.join(i,m)\n",
    "#         print(from_path)\n",
    "        to_path = os.path.join(save_dir,i.split('/')[1].split('\\\\')[1])\n",
    "        if not os.path.isdir(to_path):\n",
    "            os.makedirs(to_path)\n",
    "        copy(from_path,to_path)"
   ]
  },
  {
   "cell_type": "markdown",
   "metadata": {},
   "source": [
    "## 以下参考まで："
   ]
  },
  {
   "cell_type": "markdown",
   "metadata": {},
   "source": [
    "#### 判斷文件大小"
   ]
  },
  {
   "cell_type": "code",
   "execution_count": null,
   "metadata": {},
   "outputs": [],
   "source": [
    "def get_FileSize(path):\n",
    "    fsize = round(os.path.getsize(path)/float(1024*1024),2)\n",
    "    \n",
    "    return fsize"
   ]
  },
  {
   "cell_type": "markdown",
   "metadata": {},
   "source": [
    "#### html"
   ]
  },
  {
   "cell_type": "code",
   "execution_count": null,
   "metadata": {},
   "outputs": [],
   "source": [
    "def html_text(list_):\n",
    "    text = []\n",
    "    ii = []\n",
    "    for i in list_:\n",
    "        if i.split('.')[-1] == 'html':\n",
    "            ii.append(i)\n",
    "            htmlfile = open(i, 'r', encoding='utf-8-sig')\n",
    "            htmlhandle = htmlfile.read()\n",
    "            soup = BeautifulSoup(htmlhandle, 'html.parser')\n",
    "            text.append(soup.text)\n",
    "            dict_ = dict(zip(ii,text))\n",
    "    return dict_"
   ]
  },
  {
   "cell_type": "markdown",
   "metadata": {},
   "source": []
  },
  {
   "cell_type": "code",
   "execution_count": null,
   "metadata": {},
   "outputs": [],
   "source": [
    "path_copy= []\n",
    "for i in range(len(list_[4:])):\n",
    "    for m in range(len(list_[4:][i])):\n",
    "        path_tmp = os.path.join(kk[i+1],list_[4:][i][m])\n",
    "        path_copy.append(path_tmp)"
   ]
  },
  {
   "cell_type": "code",
   "execution_count": null,
   "metadata": {},
   "outputs": [],
   "source": [
    "path_copy[0].split('data')"
   ]
  },
  {
   "cell_type": "code",
   "execution_count": null,
   "metadata": {},
   "outputs": [],
   "source": [
    "folder = [path_copy[i].split('/')[2].split('\\\\')[0:2] for i in range(len(path_copy))]"
   ]
  },
  {
   "cell_type": "code",
   "execution_count": null,
   "metadata": {},
   "outputs": [],
   "source": [
    "folder_path=list(set([os.path.join(i[0],i[1]) for i in folder]))"
   ]
  },
  {
   "cell_type": "code",
   "execution_count": null,
   "metadata": {},
   "outputs": [],
   "source": [
    "folder_path"
   ]
  },
  {
   "cell_type": "code",
   "execution_count": null,
   "metadata": {},
   "outputs": [],
   "source": [
    "save_dir='./new/'\n",
    "if not os.path.isdir(save_dir):\n",
    "    os.makedirs(save_dir)"
   ]
  },
  {
   "cell_type": "code",
   "execution_count": null,
   "metadata": {},
   "outputs": [],
   "source": [
    "i=0\n",
    "k=0\n",
    "for i in path_copy:\n",
    "    for m in foler_path:\n",
    "        if m in i:\n",
    "            to_path = save_dir+m\n",
    "            if not os.path.isdir(to_path):\n",
    "                os.makedirs(to_path)\n",
    "                copy(i,to_path)"
   ]
  },
  {
   "cell_type": "code",
   "execution_count": null,
   "metadata": {},
   "outputs": [],
   "source": [
    "path=[kk[1]+'/'+list_[i] for i in range(len(list_))]"
   ]
  },
  {
   "cell_type": "code",
   "execution_count": null,
   "metadata": {},
   "outputs": [],
   "source": [
    "# dict_tt={}\n",
    "# for i in tt[1:]:\n",
    "dict_tt = dict(zip(ww[0],tt[1:]))\n",
    "dict_tt_copy = dict(zip(ww_copy[0],tt_copy[1:]))\n",
    "#         print(m[0])\n",
    "#         dict_tt= zip(m[0],i)\n",
    "# dict_tt_copy={}\n",
    "# for m in ww_copy[0]:\n",
    "#     for i in tt_copy[1:]:\n",
    "#         dict_tt_copy[m]=i"
   ]
  },
  {
   "cell_type": "code",
   "execution_count": null,
   "metadata": {},
   "outputs": [],
   "source": [
    "path_full = [kk[i]+'/'+ tt[i][m] for i in range(1,len(kk)) for m in range(len(tt[i]))] "
   ]
  },
  {
   "cell_type": "code",
   "execution_count": null,
   "metadata": {},
   "outputs": [],
   "source": [
    "path_error = [kk_copy[i]+'/'+ tt_copy[i][m] for i in range(1,len(kk_copy)) for m in range(len(tt_copy[i]))] "
   ]
  },
  {
   "cell_type": "code",
   "execution_count": null,
   "metadata": {},
   "outputs": [],
   "source": [
    "list_=[]\n",
    "for i in tt[1]:\n",
    "    if i not in tt[2]:\n",
    "        list_.append(i)"
   ]
  },
  {
   "cell_type": "code",
   "execution_count": null,
   "metadata": {},
   "outputs": [],
   "source": [
    "path=[kk[1]+'/'+list_[i] for i in range(len(list_))]"
   ]
  },
  {
   "cell_type": "code",
   "execution_count": null,
   "metadata": {},
   "outputs": [],
   "source": [
    "save_dir='./tmp/mm/new'\n",
    "if not os.path.isdir(save_dir):\n",
    "    os.makedirs(save_dir)"
   ]
  },
  {
   "cell_type": "code",
   "execution_count": null,
   "metadata": {},
   "outputs": [],
   "source": [
    "i=0\n",
    "k=0\n",
    "for i in path:\n",
    "    to_path=save_dir\n",
    "    print(i)\n",
    "    copy(i,to_path)"
   ]
  },
  {
   "cell_type": "code",
   "execution_count": null,
   "metadata": {},
   "outputs": [],
   "source": []
  }
 ],
 "metadata": {
  "kernelspec": {
   "display_name": "Python 3",
   "language": "python",
   "name": "python3"
  },
  "language_info": {
   "codemirror_mode": {
    "name": "ipython",
    "version": 3
   },
   "file_extension": ".py",
   "mimetype": "text/x-python",
   "name": "python",
   "nbconvert_exporter": "python",
   "pygments_lexer": "ipython3",
   "version": "3.9.1"
  }
 },
 "nbformat": 4,
 "nbformat_minor": 4
}
